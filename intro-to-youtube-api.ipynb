{
 "cells": [
  {
   "cell_type": "markdown",
   "metadata": {},
   "source": [
    "# YouTube Data API"
   ]
  },
  {
   "cell_type": "markdown",
   "metadata": {},
   "source": [
    "#### The YouTube Data API harbors metadata about videos on the platform such as video duration, title, channel information, in addition to video metrics such as likes, dislikes, and comment count."
   ]
  },
  {
   "cell_type": "code",
   "execution_count": 1,
   "metadata": {},
   "outputs": [],
   "source": [
    "import json\n",
    "import requests\n",
    "import pandas as pd"
   ]
  },
  {
   "cell_type": "code",
   "execution_count": 9,
   "metadata": {},
   "outputs": [],
   "source": [
    "api_key = json.loads(open(\"../API/YouTube/api_key.txt\").read())['api_key']"
   ]
  },
  {
   "cell_type": "code",
   "execution_count": 290,
   "metadata": {},
   "outputs": [],
   "source": [
    "def get_video_metadata(videoId):\n",
    "\n",
    "    endpoint = '''https://www.googleapis.com/youtube/v3/videos?id={}&key={}&part=snippet,contentDetails,statistics,status'''\n",
    "    url = endpoint.format(videoId, api_key)\n",
    "\n",
    "    response = json.loads(requests.get(url).text)\n",
    "    \n",
    "    return response"
   ]
  },
  {
   "cell_type": "code",
   "execution_count": 291,
   "metadata": {},
   "outputs": [],
   "source": [
    "yt_metadata = get_video_metadata('ztW7v-1FKxs')"
   ]
  },
  {
   "cell_type": "code",
   "execution_count": 294,
   "metadata": {},
   "outputs": [],
   "source": [
    "yt_metadata = get_video_metadata('3_9v-7rtVDk')"
   ]
  },
  {
   "cell_type": "code",
   "execution_count": 295,
   "metadata": {},
   "outputs": [
    {
     "data": {
      "text/plain": [
       "{'kind': 'youtube#videoListResponse',\n",
       " 'etag': '\"XpPGQXPnxQJhLgs6enD_n8JR4Qk/L_JYVdGn5jRanXY7PEdBVCli3_M\"',\n",
       " 'pageInfo': {'totalResults': 1, 'resultsPerPage': 1},\n",
       " 'items': [{'kind': 'youtube#video',\n",
       "   'etag': '\"XpPGQXPnxQJhLgs6enD_n8JR4Qk/WvDcQpn89ZE_FJ9QuRLAbP4JENg\"',\n",
       "   'id': '3_9v-7rtVDk',\n",
       "   'snippet': {'publishedAt': '2016-04-28T17:21:54.000Z',\n",
       "    'channelId': 'UCPD_bxCRGpmmeQcbe2kpPaA',\n",
       "    'title': 'Key & Peele Lose Their Minds Eating Spicy Wings | Hot Ones',\n",
       "    'description': \"What happens when Hot Ones takes over your press junket? Keegan-Michael Key and Jordan Peele found out as they did the rounds to promote their new comedy, Keanu, hitting theaters April 29. Hot Ones host Sean Evans unleashed five fiery wings on each of the comedians to get one of their craziest interviews yet.\\n\\nSubscribe to First We Feast on YouTube: http://goo.gl/UxFzhK\\nCheck out more of First We Feast here:\\nhttp://firstwefeast.com/\\nhttps://twitter.com/firstwefeast\\nhttps://www.facebook.com/FirstWeFeast\\nhttp://instagram.com/firstwefeast\\nhttps://www.reddit.com/r/hotones/\\n\\nFirst We Feast videos offer an iconoclastic view into the culinary world, taking you behind-the-scenes with some of the country's best chefs and finding the unexpected places where food and pop culture intersect. Click here to purchase Hot Ones hot sauces: http://bit.ly/2ja8sx2\",\n",
       "    'thumbnails': {'default': {'url': 'https://i.ytimg.com/vi/3_9v-7rtVDk/default.jpg',\n",
       "      'width': 120,\n",
       "      'height': 90},\n",
       "     'medium': {'url': 'https://i.ytimg.com/vi/3_9v-7rtVDk/mqdefault.jpg',\n",
       "      'width': 320,\n",
       "      'height': 180},\n",
       "     'high': {'url': 'https://i.ytimg.com/vi/3_9v-7rtVDk/hqdefault.jpg',\n",
       "      'width': 480,\n",
       "      'height': 360}},\n",
       "    'channelTitle': 'First We Feast',\n",
       "    'tags': ['First we feast',\n",
       "     'fwf',\n",
       "     'firstwefeast',\n",
       "     'food',\n",
       "     'food porn',\n",
       "     'cook',\n",
       "     'cooking',\n",
       "     'chef',\n",
       "     'kitchen',\n",
       "     'recipe',\n",
       "     'cocktail',\n",
       "     'bartender',\n",
       "     'craft beer',\n",
       "     'complex',\n",
       "     'complex mediaCook (Profession)',\n",
       "     'key and peele',\n",
       "     'jordan peele',\n",
       "     'key peele',\n",
       "     'keegan michael key',\n",
       "     'funny',\n",
       "     'complex tv',\n",
       "     'complex media',\n",
       "     'Sean Evans',\n",
       "     'Keanu'],\n",
       "    'categoryId': '26',\n",
       "    'liveBroadcastContent': 'none',\n",
       "    'localized': {'title': 'Key & Peele Lose Their Minds Eating Spicy Wings | Hot Ones',\n",
       "     'description': \"What happens when Hot Ones takes over your press junket? Keegan-Michael Key and Jordan Peele found out as they did the rounds to promote their new comedy, Keanu, hitting theaters April 29. Hot Ones host Sean Evans unleashed five fiery wings on each of the comedians to get one of their craziest interviews yet.\\n\\nSubscribe to First We Feast on YouTube: http://goo.gl/UxFzhK\\nCheck out more of First We Feast here:\\nhttp://firstwefeast.com/\\nhttps://twitter.com/firstwefeast\\nhttps://www.facebook.com/FirstWeFeast\\nhttp://instagram.com/firstwefeast\\nhttps://www.reddit.com/r/hotones/\\n\\nFirst We Feast videos offer an iconoclastic view into the culinary world, taking you behind-the-scenes with some of the country's best chefs and finding the unexpected places where food and pop culture intersect. Click here to purchase Hot Ones hot sauces: http://bit.ly/2ja8sx2\"}},\n",
       "   'contentDetails': {'duration': 'PT14M11S',\n",
       "    'dimension': '2d',\n",
       "    'definition': 'hd',\n",
       "    'caption': 'false',\n",
       "    'licensedContent': True,\n",
       "    'projection': 'rectangular'},\n",
       "   'status': {'uploadStatus': 'processed',\n",
       "    'privacyStatus': 'public',\n",
       "    'license': 'youtube',\n",
       "    'embeddable': True,\n",
       "    'publicStatsViewable': True},\n",
       "   'statistics': {'viewCount': '14265778',\n",
       "    'likeCount': '204595',\n",
       "    'dislikeCount': '2609',\n",
       "    'favoriteCount': '0',\n",
       "    'commentCount': '8418'}}]}"
      ]
     },
     "execution_count": 295,
     "metadata": {},
     "output_type": "execute_result"
    }
   ],
   "source": [
    "yt_metadata"
   ]
  },
  {
   "cell_type": "markdown",
   "metadata": {},
   "source": [
    "## Data we're retrieving for every video\n",
    "### 1. date of publication 2. subscribers???? 3. category- 24 = Entertainment & 26 = Howto & Style 4. if it has the sponsored tag"
   ]
  },
  {
   "cell_type": "code",
   "execution_count": 42,
   "metadata": {},
   "outputs": [],
   "source": [
    "#snippet_key should be string (for example, 'publishedAt')\n",
    "def access_snippet_dict (snippet_key):\n",
    "    \n",
    "    #goes into dictionary, into itmes key. value is a list. access the first element\n",
    "    #of the list, which is a dictionary. access 'snippet' key,value is dictionary\n",
    "    snippet_value = yt_metadata['items'][0]['snippet'][snippet_key]\n",
    "    \n",
    "    return snippet_value"
   ]
  },
  {
   "cell_type": "code",
   "execution_count": 288,
   "metadata": {},
   "outputs": [],
   "source": [
    "#1.publicationAt\n",
    "datetime = access_snippet_dict('publishedAt')\n",
    "\n",
    "#2. subscribers?? maybe through analytics API\n",
    "\n",
    "#3. categoryId\n",
    "categoryId = access_snippet_dict('categoryId')\n",
    "\n",
    "#4. tags\n",
    "tags = access_snippet_dict('tags')\n",
    "\n",
    "#5. description (contains #sponsored)\n",
    "description = access_snippet_dict('description')\n",
    "\n",
    "#6. like and dislike count to calculate ratio\n",
    "likeCount = int(yt_metadata['items'][0]['statistics']['likeCount'])\n",
    "dislikeCount = int(yt_metadata['items'][0]['statistics']['dislikeCount'])"
   ]
  },
  {
   "cell_type": "code",
   "execution_count": 281,
   "metadata": {},
   "outputs": [
    {
     "data": {
      "text/plain": [
       "218"
      ]
     },
     "execution_count": 281,
     "metadata": {},
     "output_type": "execute_result"
    }
   ],
   "source": [
    "likeCount"
   ]
  },
  {
   "cell_type": "code",
   "execution_count": 282,
   "metadata": {},
   "outputs": [
    {
     "data": {
      "text/plain": [
       "1"
      ]
     },
     "execution_count": 282,
     "metadata": {},
     "output_type": "execute_result"
    }
   ],
   "source": [
    "dislikeCount"
   ]
  },
  {
   "cell_type": "code",
   "execution_count": 289,
   "metadata": {},
   "outputs": [
    {
     "data": {
      "text/plain": [
       "'2019-02-27T19:31:50.000Z'"
      ]
     },
     "execution_count": 289,
     "metadata": {},
     "output_type": "execute_result"
    }
   ],
   "source": [
    "datetime"
   ]
  },
  {
   "cell_type": "code",
   "execution_count": 43,
   "metadata": {},
   "outputs": [
    {
     "data": {
      "text/plain": [
       "'22'"
      ]
     },
     "execution_count": 43,
     "metadata": {},
     "output_type": "execute_result"
    }
   ],
   "source": [
    "categoryId"
   ]
  },
  {
   "cell_type": "code",
   "execution_count": 47,
   "metadata": {},
   "outputs": [
    {
     "data": {
      "text/plain": [
       "['book',\n",
       " 'books',\n",
       " 'bookish',\n",
       " 'booktube',\n",
       " 'booktuber',\n",
       " 'a dash of ash',\n",
       " 'read',\n",
       " 'reading',\n",
       " 'reads',\n",
       " 'reader',\n",
       " 'ya',\n",
       " 'young',\n",
       " 'adult',\n",
       " 'anticipated spring releases',\n",
       " 'book releases',\n",
       " 'spring books',\n",
       " 'spring 2019 book releases',\n",
       " 'ya book releases',\n",
       " 'ya spring books']"
      ]
     },
     "execution_count": 47,
     "metadata": {},
     "output_type": "execute_result"
    }
   ],
   "source": [
    "tags"
   ]
  },
  {
   "cell_type": "code",
   "execution_count": 148,
   "metadata": {},
   "outputs": [
    {
     "data": {
      "text/plain": [
       "\"Let me know what spring release you're looking forward to the most!\\n\\nThis video contains Paid Promotion by Epic Reads. Thanks Epic Reads!\\n\\nEnter here https://go.epicreads.com/oppositeofalways-sweeps/ for a chance to win a copy of Opposite of Always and a set of three custom pennants. Sweepstakes sponsored by HarperCollins Publishers. US residents only. Ends 3/1/2019. Official Rules: https://d15fwz9jg1iq5f.cloudfront.net/wp-content/uploads/sites/2/2019/02/12155924/OppositeofAlwaysSweeps-OfficialRules.pdf #sponsored\\n\\nTHANKS FOR WATCHING!!\\n\\ns o c i a l  m e d i a s\\nTwitter: @ashleynuckles\\n\\nInstagram: @ashleynuckles\\n\\nSnapchat: @adashofash12\\n\\nGoodreads: @ashleynuckles or http://www.goodreads.com/ashleynuckles\\n\\nf o r  b u s i n e s s  i n q u i r i e s \\nadashofash12@gmail.com\\n\\nm u s i c  f r o m \\nYouTube Creator Library.\""
      ]
     },
     "execution_count": 148,
     "metadata": {},
     "output_type": "execute_result"
    }
   ],
   "source": [
    "description"
   ]
  },
  {
   "cell_type": "code",
   "execution_count": 286,
   "metadata": {},
   "outputs": [],
   "source": [
    "def is_sponsored_or_ad(description):\n",
    "    hashtags = ['#ad', '#sponsored']\n",
    "    return any(word in description for word in hashtags)"
   ]
  },
  {
   "cell_type": "code",
   "execution_count": 287,
   "metadata": {},
   "outputs": [
    {
     "data": {
      "text/plain": [
       "True"
      ]
     },
     "execution_count": 287,
     "metadata": {},
     "output_type": "execute_result"
    }
   ],
   "source": [
    "is_sponsored_or_ad(description)"
   ]
  },
  {
   "cell_type": "code",
   "execution_count": 203,
   "metadata": {},
   "outputs": [],
   "source": [
    "def is_beauty_or_entertainment(categoryId):\n",
    "    return categoryId in ['24','26']"
   ]
  },
  {
   "cell_type": "code",
   "execution_count": 230,
   "metadata": {},
   "outputs": [
    {
     "data": {
      "text/plain": [
       "False"
      ]
     },
     "execution_count": 230,
     "metadata": {},
     "output_type": "execute_result"
    }
   ],
   "source": [
    "is_beauty_or_entertaiment(categoryId)"
   ]
  },
  {
   "cell_type": "code",
   "execution_count": 283,
   "metadata": {},
   "outputs": [],
   "source": [
    "def ratio(likeCount, dislikeCount):\n",
    "    ratio = likeCount/(likeCount + dislikeCount)\n",
    "    return ratio"
   ]
  },
  {
   "cell_type": "code",
   "execution_count": 284,
   "metadata": {},
   "outputs": [
    {
     "data": {
      "text/plain": [
       "0.9954337899543378"
      ]
     },
     "execution_count": 284,
     "metadata": {},
     "output_type": "execute_result"
    }
   ],
   "source": [
    "ratio(likeCount, dislikeCount)"
   ]
  },
  {
   "cell_type": "code",
   "execution_count": null,
   "metadata": {},
   "outputs": [],
   "source": []
  }
 ],
 "metadata": {
  "kernelspec": {
   "display_name": "Python 3",
   "language": "python",
   "name": "python3"
  },
  "language_info": {
   "codemirror_mode": {
    "name": "ipython",
    "version": 3
   },
   "file_extension": ".py",
   "mimetype": "text/x-python",
   "name": "python",
   "nbconvert_exporter": "python",
   "pygments_lexer": "ipython3",
   "version": "3.7.1"
  }
 },
 "nbformat": 4,
 "nbformat_minor": 2
}
